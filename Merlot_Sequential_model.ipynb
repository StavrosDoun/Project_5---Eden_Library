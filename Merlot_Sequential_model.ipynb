{
 "cells": [
  {
   "cell_type": "code",
   "execution_count": 1,
   "id": "e5850bed-f831-49cd-b9f7-fcfaed70398b",
   "metadata": {},
   "outputs": [
    {
     "name": "stdout",
     "output_type": "stream",
     "text": [
      "WARNING:tensorflow:From C:\\Users\\Stavros\\miniconda3\\envs\\Eden_Library\\lib\\site-packages\\keras\\src\\losses.py:2976: The name tf.losses.sparse_softmax_cross_entropy is deprecated. Please use tf.compat.v1.losses.sparse_softmax_cross_entropy instead.\n",
      "\n"
     ]
    }
   ],
   "source": [
    "import pandas as pd\n",
    "import seaborn as sns\n",
    "import matplotlib.pyplot as plt\n",
    "import numpy as np\n",
    "\n",
    "import warnings\n",
    "warnings.filterwarnings(\"ignore\")\n",
    "\n",
    "from sklearn.model_selection import train_test_split\n",
    "from sklearn.metrics import mean_squared_error\n",
    "from sklearn.metrics import r2_score\n",
    "\n",
    "from tensorflow.keras.layers import Dense, Dropout, Activation,Flatten\n",
    "from tensorflow.keras.callbacks import ReduceLROnPlateau, EarlyStopping\n",
    "from tensorflow.keras.models import Sequential\n",
    "import tensorflow as tf"
   ]
  },
  {
   "cell_type": "code",
   "execution_count": 2,
   "id": "bd45b803-6eb0-4902-921f-742a1f7ad3f5",
   "metadata": {},
   "outputs": [],
   "source": [
    "df=pd.read_csv('model_data.csv')"
   ]
  },
  {
   "cell_type": "code",
   "execution_count": 3,
   "id": "0d8f3aca-fe69-4bcd-9f7c-280d09755074",
   "metadata": {},
   "outputs": [],
   "source": [
    "df.drop(columns=['GT_vs_AI','MA_vs_AI','date','Unnamed: 0'],inplace=True)"
   ]
  },
  {
   "cell_type": "code",
   "execution_count": 4,
   "id": "dba02752-1680-4a40-9c8f-2f8c8b4562d0",
   "metadata": {},
   "outputs": [
    {
     "name": "stdout",
     "output_type": "stream",
     "text": [
      "(30, 7)\n",
      "(29, 7)\n",
      "(90, 7)\n",
      "(60, 7)\n",
      "(20, 7)\n",
      "(69, 7)\n",
      "(120, 7)\n"
     ]
    }
   ],
   "source": [
    "#Lets see how many observations we have for every variety\n",
    "for i in range(0,7):\n",
    "    print(df[df['variety']== i].shape)"
   ]
  },
  {
   "cell_type": "code",
   "execution_count": 5,
   "id": "a39e7bb7-321c-4d4d-8b76-759dd8a69663",
   "metadata": {},
   "outputs": [],
   "source": [
    "# Working only with the variety of Merlot\n",
    "test_df_Merlot = df[df['variety'] == 2]"
   ]
  },
  {
   "cell_type": "markdown",
   "id": "2aacc07b-027b-4f14-ae3c-b910eeebbc1e",
   "metadata": {},
   "source": [
    "## Quantile Function"
   ]
  },
  {
   "cell_type": "code",
   "execution_count": 6,
   "id": "a1476c9d-9a4f-4e03-b916-8dd6121b09d8",
   "metadata": {},
   "outputs": [],
   "source": [
    "predicted_counts = test_df_Merlot['AI detections']\n",
    "ground_truth = test_df_Merlot['Ground Truth']\n",
    "\n",
    "# Calculate quantiles\n",
    "predicted_quantiles = np.percentile(predicted_counts, np.arange(0, 101))\n",
    "ground_truth_quantiles = np.percentile(ground_truth, np.arange(0, 101))\n",
    "\n",
    "# Quantile mapping function\n",
    "def quantile_mapping(prediction, predicted_quantiles, ground_truth_quantiles):\n",
    "    mapped_quantile = np.interp(np.percentile(prediction, np.arange(0, 101)),\n",
    "                                predicted_quantiles, ground_truth_quantiles)\n",
    "    mapped_prediction = np.interp(prediction, predicted_quantiles, mapped_quantile)\n",
    "    return mapped_prediction\n",
    "\n",
    "# Apply quantile mapping\n",
    "adjusted_counts = quantile_mapping(predicted_counts, predicted_quantiles, ground_truth_quantiles)"
   ]
  },
  {
   "cell_type": "code",
   "execution_count": 7,
   "id": "33f0fbe1-13f1-4f7e-8ec2-219a0c699e3d",
   "metadata": {},
   "outputs": [],
   "source": [
    "test_df_Merlot['Modified Values']=adjusted_counts"
   ]
  },
  {
   "cell_type": "markdown",
   "id": "8881c712-6cea-42b2-9524-209a7d588fdf",
   "metadata": {
    "jp-MarkdownHeadingCollapsed": true
   },
   "source": [
    "## Mean Function"
   ]
  },
  {
   "cell_type": "raw",
   "id": "3621cf7f-1fb0-4d2c-b240-e67d8639e941",
   "metadata": {},
   "source": [
    "#original_counts = test_df_Merlot['AI detections']\n",
    "#ground_truth = test_df_Merlot['Ground Truth']\n",
    "#\n",
    "#mean_original = np.mean(original_counts)\n",
    "#std_original = np.std(original_counts)\n",
    "#\n",
    "#scaling_factor = np.mean(ground_truth) / mean_original\n",
    "#\n",
    "#scaled_counts = original_counts * scaling_factor"
   ]
  },
  {
   "cell_type": "raw",
   "id": "8921c5d6-e64c-4e1d-8662-b3e7168836e4",
   "metadata": {},
   "source": [
    "#test_df_Merlot['Modified Values']=scaled_counts"
   ]
  },
  {
   "cell_type": "raw",
   "id": "1759464a-1ef4-41c3-b985-de3f5dd610f8",
   "metadata": {},
   "source": [
    "#grouped_data = test_df_Merlot.groupby('GS')['AI detections','Ground Truth','Modified Values'].sum()\n",
    "#ax = grouped_data.plot()\n",
    "#line_colors = ['darkorange','mintcream',\"dodgerblue\"]\n",
    "#for i, line in enumerate(ax.lines):\n",
    "#    line.set_color(line_colors[i])\n",
    "#ax.patch.set_facecolor('darkgreen')\n",
    "#legend_labels = ['AI detections','Ground Truth','Modified Values']\n",
    "#for i, text in enumerate(ax.legend().get_texts()):\n",
    "#    text.set_color(line_colors[i])\n",
    "#    text.set_text(legend_labels[i])\n",
    "#plt.title('Lineplot for Merlot with Modified Values')\n",
    "#plt.savefig(\"Lineplot for Merlot Modified Values.png\")\n",
    "#plt.show()"
   ]
  },
  {
   "cell_type": "markdown",
   "id": "021addf4-f90b-418d-a7e6-3368c4292294",
   "metadata": {},
   "source": [
    "## Sequential Model"
   ]
  },
  {
   "cell_type": "code",
   "execution_count": 8,
   "id": "4de89190-424d-457a-9f83-b260a2f609ae",
   "metadata": {},
   "outputs": [],
   "source": [
    "X=test_df_Merlot.drop(columns=['Tree','Ground Truth','Number of manual annotations'])\n",
    "y=test_df_Merlot['Ground Truth']"
   ]
  },
  {
   "cell_type": "code",
   "execution_count": 9,
   "id": "5769a670-20f9-4cdd-9d9b-3c8c0321f7c6",
   "metadata": {},
   "outputs": [],
   "source": [
    "X_train, X_test, y_train, y_test = train_test_split(X, y, test_size=0.2, random_state=13)"
   ]
  },
  {
   "cell_type": "code",
   "execution_count": 10,
   "id": "2cd3eba2-8cff-47d1-a50f-ff97997259e2",
   "metadata": {},
   "outputs": [],
   "source": [
    "reduce_lr = ReduceLROnPlateau(monitor='val_loss', factor=0.2, patience=5, min_lr=0.001)\n",
    "early_stopping = EarlyStopping(monitor='val_loss', patience=3)"
   ]
  },
  {
   "cell_type": "code",
   "execution_count": 11,
   "id": "d1f48c07-0274-4d51-89ba-b0c7247937a2",
   "metadata": {},
   "outputs": [
    {
     "name": "stdout",
     "output_type": "stream",
     "text": [
      "WARNING:tensorflow:From C:\\Users\\Stavros\\miniconda3\\envs\\Eden_Library\\lib\\site-packages\\keras\\src\\backend.py:873: The name tf.get_default_graph is deprecated. Please use tf.compat.v1.get_default_graph instead.\n",
      "\n",
      "WARNING:tensorflow:From C:\\Users\\Stavros\\miniconda3\\envs\\Eden_Library\\lib\\site-packages\\keras\\src\\optimizers\\__init__.py:309: The name tf.train.Optimizer is deprecated. Please use tf.compat.v1.train.Optimizer instead.\n",
      "\n"
     ]
    }
   ],
   "source": [
    "model = Sequential()\n",
    "model.add(Dense(64, input_shape=(X_train.shape[1],), activation='relu'))\n",
    "\n",
    "\n",
    "model.add(Dense(64,activation='relu'))\n",
    "model.add(Dropout(0.3))\n",
    "model.add(Dense(64,activation='relu'))\n",
    "model.add(Dropout(0.5))\n",
    "\n",
    "\n",
    "\n",
    "\n",
    "model.add(Dense(1, activation='linear'))\n",
    "\n",
    "\n",
    "model.compile(optimizer='adam', loss='mean_squared_error' )"
   ]
  },
  {
   "cell_type": "code",
   "execution_count": 12,
   "id": "7dac0843-da6f-4208-8d7d-99e8474aa2ea",
   "metadata": {},
   "outputs": [
    {
     "name": "stdout",
     "output_type": "stream",
     "text": [
      "Epoch 1/100\n",
      "WARNING:tensorflow:From C:\\Users\\Stavros\\miniconda3\\envs\\Eden_Library\\lib\\site-packages\\keras\\src\\utils\\tf_utils.py:492: The name tf.ragged.RaggedTensorValue is deprecated. Please use tf.compat.v1.ragged.RaggedTensorValue instead.\n",
      "\n",
      "2/2 [==============================] - 1s 212ms/step - loss: 598.2364 - val_loss: 245.4536 - lr: 0.0010\n",
      "Epoch 2/100\n",
      "2/2 [==============================] - 0s 52ms/step - loss: 444.3409 - val_loss: 138.9465 - lr: 0.0010\n",
      "Epoch 3/100\n",
      "2/2 [==============================] - 0s 53ms/step - loss: 252.3367 - val_loss: 82.4785 - lr: 0.0010\n",
      "Epoch 4/100\n",
      "2/2 [==============================] - 0s 40ms/step - loss: 252.1294 - val_loss: 70.9297 - lr: 0.0010\n",
      "Epoch 5/100\n",
      "2/2 [==============================] - 0s 45ms/step - loss: 144.4338 - val_loss: 86.3337 - lr: 0.0010\n",
      "Epoch 6/100\n",
      "2/2 [==============================] - 0s 43ms/step - loss: 182.1401 - val_loss: 101.5134 - lr: 0.0010\n",
      "Epoch 7/100\n",
      "2/2 [==============================] - 0s 32ms/step - loss: 198.4180 - val_loss: 97.5620 - lr: 0.0010\n",
      "1/1 [==============================] - 0s 113ms/step\n",
      "1/1 [==============================] - 0s 32ms/step - loss: 30.2245\n",
      " Loss_MSE: 30.22450828552246\n"
     ]
    }
   ],
   "source": [
    "history = model.fit(X_train, y_train, epochs=100, validation_split=0.1, callbacks=[reduce_lr, early_stopping])\n",
    "predictions = model.predict(X_test)\n",
    "loss_MSE = model.evaluate(X_test, y_test)\n",
    "print(f' Loss_MSE: {loss_MSE}')"
   ]
  },
  {
   "cell_type": "code",
   "execution_count": 13,
   "id": "1184c288-8e26-410d-b8d7-53e48d82a22a",
   "metadata": {},
   "outputs": [],
   "source": [
    "pred_df=pd.DataFrame()\n",
    "pred_df['Ground Truth']=y_test\n",
    "pred_df['AI']=X_test['AI detections']\n",
    "pred_df['Predictions']=predictions\n",
    "pred_df['adjust']=X_test['Modified Values']\n",
    "pred_df['GS']=X_test['GS']"
   ]
  },
  {
   "cell_type": "code",
   "execution_count": 14,
   "id": "949a6364-bfc7-4333-954c-89c4d7d0a0d4",
   "metadata": {},
   "outputs": [
    {
     "data": {
      "image/png": "[encoded data removed]",
      "text/plain": [
       "<Figure size 640x480 with 1 Axes>"
      ]
     },
     "metadata": {},
     "output_type": "display_data"
    }
   ],
   "source": [
    "grouped_data =pred_df.groupby('GS')['Predictions','Ground Truth','AI'].mean()\n",
    "ax = grouped_data.plot()\n",
    "line_colors = [\"dodgerblue\",'mintcream',\"darkorange\"]\n",
    "for i, line in enumerate(ax.lines):\n",
    "    line.set_color(line_colors[i])\n",
    "ax.patch.set_facecolor('darkgreen')\n",
    "legend_labels = ['Predictions','Ground Truth','AI Dedections']\n",
    "for i, text in enumerate(ax.legend().get_texts()):\n",
    "    text.set_color(line_colors[i])\n",
    "    text.set_text(legend_labels[i])\n",
    "plt.title('Lineplot for Merlot with Predicted Values')\n",
    "plt.savefig(\"Lineplot for Merlot Predicted Values.png\")\n",
    "plt.show()"
   ]
  }
 ],
 "metadata": {
  "kernelspec": {
   "display_name": "Python 3 (ipykernel)",
   "language": "python",
   "name": "python3"
  },
  "language_info": {
   "codemirror_mode": {
    "name": "ipython",
    "version": 3
   },
   "file_extension": ".py",
   "mimetype": "text/x-python",
   "name": "python",
   "nbconvert_exporter": "python",
   "pygments_lexer": "ipython3",
   "version": "3.9.17"
  },
  "varInspector": {
   "cols": {
    "lenName": 16,
    "lenType": 16,
    "lenVar": 40
   },
   "kernels_config": {
    "python": {
     "delete_cmd_postfix": "",
     "delete_cmd_prefix": "del ",
     "library": "var_list.py",
     "varRefreshCmd": "print(var_dic_list())"
    },
    "r": {
     "delete_cmd_postfix": ") ",
     "delete_cmd_prefix": "rm(",
     "library": "var_list.r",
     "varRefreshCmd": "cat(var_dic_list()) "
    }
   },
   "types_to_exclude": [
    "module",
    "function",
    "builtin_function_or_method",
    "instance",
    "_Feature"
   ],
   "window_display": true
  }
 },
 "nbformat": 4,
 "nbformat_minor": 5
}
